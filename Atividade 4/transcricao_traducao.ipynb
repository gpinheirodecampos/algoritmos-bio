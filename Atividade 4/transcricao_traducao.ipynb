{
 "cells": [
  {
   "cell_type": "markdown",
   "id": "fe03dbc1",
   "metadata": {},
   "source": [
    "# Atividade 4 - Transcrição e Tradução de Sequências\n",
    "\n",
    "Neste notebook, vamos explorar o processo biológico de transcrição (DNA → RNA) e tradução (RNA → Proteína) usando código Python para implementar esses processos biológicos fundamentais.\n",
    "\n",
    "## Objetivo\n",
    "- Transcrever sequências de DNA para RNA\n",
    "- Traduzir sequências de RNA para Proteína nos 6 frames de leitura\n",
    "- Utilizar dicionário Python para implementar a tabela do código genético"
   ]
  },
  {
   "cell_type": "markdown",
   "id": "14d67998",
   "metadata": {},
   "source": [
    "## 1. Importando Bibliotecas Necessárias\n",
    "\n",
    "Usaremos BioPython para facilitar a manipulação de sequências biológicas, mas implementaremos manualmente a tradução para proteína usando dicionários."
   ]
  },
  {
   "cell_type": "code",
   "execution_count": 2,
   "id": "f89ad276",
   "metadata": {},
   "outputs": [
    {
     "name": "stdout",
     "output_type": "stream",
     "text": [
      "Requirement already satisfied: biopython in c:\\users\\gabri\\appdata\\local\\programs\\python\\python313\\lib\\site-packages (1.85)\n",
      "Requirement already satisfied: numpy in c:\\users\\gabri\\appdata\\local\\programs\\python\\python313\\lib\\site-packages (from biopython) (2.2.4)\n",
      "Note: you may need to restart the kernel to use updated packages.\n"
     ]
    },
    {
     "name": "stderr",
     "output_type": "stream",
     "text": [
      "\n",
      "[notice] A new release of pip is available: 24.2 -> 25.1.1\n",
      "[notice] To update, run: python.exe -m pip install --upgrade pip\n"
     ]
    }
   ],
   "source": [
    "%pip install biopython"
   ]
  },
  {
   "cell_type": "code",
   "execution_count": 4,
   "id": "e015135a",
   "metadata": {},
   "outputs": [
    {
     "ename": "NameError",
     "evalue": "name 'Bio' is not defined",
     "output_type": "error",
     "traceback": [
      "\u001b[31m---------------------------------------------------------------------------\u001b[39m",
      "\u001b[31mNameError\u001b[39m                                 Traceback (most recent call last)",
      "\u001b[36mCell\u001b[39m\u001b[36m \u001b[39m\u001b[32mIn[4]\u001b[39m\u001b[32m, line 7\u001b[39m\n\u001b[32m      4\u001b[39m \u001b[38;5;28;01mimport\u001b[39;00m\u001b[38;5;250m \u001b[39m\u001b[34;01mos\u001b[39;00m\n\u001b[32m      6\u001b[39m \u001b[38;5;66;03m# Verificar que o BioPython está instalado corretamente\u001b[39;00m\n\u001b[32m----> \u001b[39m\u001b[32m7\u001b[39m \u001b[38;5;28mprint\u001b[39m(\u001b[33mf\u001b[39m\u001b[33m\"\u001b[39m\u001b[33mBioPython versão: \u001b[39m\u001b[38;5;132;01m{\u001b[39;00m\u001b[43mBio\u001b[49m.__version__\u001b[38;5;132;01m}\u001b[39;00m\u001b[33m\"\u001b[39m)\n",
      "\u001b[31mNameError\u001b[39m: name 'Bio' is not defined"
     ]
    }
   ],
   "source": [
    "# Importando bibliotecas necessárias\n",
    "from Bio import SeqIO\n",
    "from Bio.Seq import Seq\n",
    "import os\n",
    "\n",
    "# Verificar que o BioPython está instalado corretamente\n",
    "print(f\"BioPython versão: {Bio.__version__}\")"
   ]
  },
  {
   "cell_type": "markdown",
   "id": "5a498f84",
   "metadata": {},
   "source": [
    "## 2. Dogma Central da Biologia Molecular\n",
    "\n",
    "O fluxo da informação genética segue o dogma central da biologia molecular:\n",
    "\n",
    "DNA → RNA → Proteína\n",
    "\n",
    "- **Transcrição**: DNA é transcrito para RNA mensageiro (mRNA)\n",
    "- **Tradução**: mRNA é traduzido para proteína\n",
    "\n",
    "### 2.1 Código Genético\n",
    "\n",
    "A tradução de mRNA para proteína é mediada pelo código genético, que associa trincas de nucleotídeos (códons) a aminoácidos específicos. Vamos implementar a tabela do código genético usando um dicionário Python."
   ]
  },
  {
   "cell_type": "code",
   "execution_count": null,
   "id": "f9dc5850",
   "metadata": {},
   "outputs": [],
   "source": [
    "# Criando o dicionário do código genético (tabela de tradução RNA → proteína)\n",
    "def criar_tabela_genetica():\n",
    "    tabela = {\n",
    "        'UUU': 'F', 'UUC': 'F', 'UUA': 'L', 'UUG': 'L',\n",
    "        'CUU': 'L', 'CUC': 'L', 'CUA': 'L', 'CUG': 'L',\n",
    "        'AUU': 'I', 'AUC': 'I', 'AUA': 'I', 'AUG': 'M',\n",
    "        'GUU': 'V', 'GUC': 'V', 'GUA': 'V', 'GUG': 'V',\n",
    "        'UCU': 'S', 'UCC': 'S', 'UCA': 'S', 'UCG': 'S',\n",
    "        'CCU': 'P', 'CCC': 'P', 'CCA': 'P', 'CCG': 'P',\n",
    "        'ACU': 'T', 'ACC': 'T', 'ACA': 'T', 'ACG': 'T',\n",
    "        'GCU': 'A', 'GCC': 'A', 'GCA': 'A', 'GCG': 'A',\n",
    "        'UAU': 'Y', 'UAC': 'Y', 'UAA': '*', 'UAG': '*',\n",
    "        'CAU': 'H', 'CAC': 'H', 'CAA': 'Q', 'CAG': 'Q',\n",
    "        'AAU': 'N', 'AAC': 'N', 'AAA': 'K', 'AAG': 'K',\n",
    "        'GAU': 'D', 'GAC': 'D', 'GAA': 'E', 'GAG': 'E',\n",
    "        'UGU': 'C', 'UGC': 'C', 'UGA': '*', 'UGG': 'W',\n",
    "        'CGU': 'R', 'CGC': 'R', 'CGA': 'R', 'CGG': 'R',\n",
    "        'AGU': 'S', 'AGC': 'S', 'AGA': 'R', 'AGG': 'R',\n",
    "        'GGU': 'G', 'GGC': 'G', 'GGA': 'G', 'GGG': 'G'\n",
    "    }\n",
    "    return tabela\n",
    "\n",
    "# Mostrando alguns códons e seus aminoácidos correspondentes\n",
    "tabela = criar_tabela_genetica()\n",
    "print(\"Exemplos de códons e seus aminoácidos:\")\n",
    "print(f\"AUG (códon de início) → {tabela['AUG']} (Metionina)\")\n",
    "print(f\"UUU → {tabela['UUU']} (Fenilalanina)\")\n",
    "print(f\"UAA → {tabela['UAA']} (Códon de parada)\")"
   ]
  },
  {
   "cell_type": "markdown",
   "id": "d468195b",
   "metadata": {},
   "source": [
    "## 3. Implementando as Funções de Transcrição e Tradução\n",
    "\n",
    "Agora vamos implementar as funções necessárias para:\n",
    "1. Ler sequências de DNA em formato FASTA\n",
    "2. Transcrever DNA para RNA\n",
    "3. Obter o complemento reverso de uma sequência\n",
    "4. Traduzir RNA para proteína em um determinado frame"
   ]
  },
  {
   "cell_type": "code",
   "execution_count": null,
   "id": "71678981",
   "metadata": {},
   "outputs": [],
   "source": [
    "# Função para ler arquivo FASTA\n",
    "def ler_fasta(arquivo):\n",
    "    sequencias = {}\n",
    "    \n",
    "    try:\n",
    "        # Lendo o arquivo FASTA usando o BioPython\n",
    "        for record in SeqIO.parse(arquivo, \"fasta\"):\n",
    "            header = \">\" + record.description  # Adicionando o \">\" no início do cabeçalho\n",
    "            sequencias[header] = str(record.seq)\n",
    "        \n",
    "        print(f\"Leitura concluída: {len(sequencias)} sequências encontradas\")\n",
    "    except Exception as e:\n",
    "        print(f\"Erro ao ler o arquivo FASTA: {e}\")\n",
    "        \n",
    "    return sequencias\n",
    "\n",
    "# Função para transcrever DNA para RNA\n",
    "def dna_para_rna(sequencia_dna):\n",
    "    # Usando BioPython para transcrição\n",
    "    seq_dna = Seq(sequencia_dna.upper())\n",
    "    seq_rna = seq_dna.transcribe()  # Substitui T por U\n",
    "    \n",
    "    return str(seq_rna)\n",
    "\n",
    "# Função para obter complemento reverso\n",
    "def complemento_reverso(sequencia):\n",
    "    # Usando BioPython para obter complemento reverso\n",
    "    seq_dna = Seq(sequencia.upper())\n",
    "    seq_complementar = seq_dna.reverse_complement()\n",
    "    \n",
    "    return str(seq_complementar)\n",
    "\n",
    "# Função para traduzir RNA para proteína\n",
    "def traduzir_rna(sequencia_rna, tabela, frame=0):\n",
    "    proteina = \"\"\n",
    "    # Começar do frame desejado (0, 1 ou 2)\n",
    "    for i in range(frame, len(sequencia_rna) - 2, 3):\n",
    "        codon = sequencia_rna[i:i+3]\n",
    "        if len(codon) == 3:  # Garantir que temos um códon completo\n",
    "            aminoacido = tabela.get(codon, \"X\")  # X para códons desconhecidos\n",
    "            proteina += aminoacido\n",
    "    return proteina"
   ]
  },
  {
   "cell_type": "markdown",
   "id": "8e085b47",
   "metadata": {},
   "source": [
    "## 4. Demonstração com uma Sequência Simples\n",
    "\n",
    "Vamos demonstrar o processo com uma sequência simples de DNA:"
   ]
  },
  {
   "cell_type": "code",
   "execution_count": null,
   "id": "ba114ac0",
   "metadata": {},
   "outputs": [],
   "source": [
    "# Sequência de DNA de exemplo\n",
    "dna_exemplo = \"ATGGCTAGCATCGATCGATGCTAGCTAGCTAGCTAGCTGATCGATCG\"\n",
    "print(f\"Sequência de DNA: {dna_exemplo}\")\n",
    "\n",
    "# Transcrição para RNA\n",
    "rna_exemplo = dna_para_rna(dna_exemplo)\n",
    "print(f\"Sequência de RNA: {rna_exemplo}\")\n",
    "\n",
    "# Tradução para proteína (frame 1)\n",
    "tabela = criar_tabela_genetica()\n",
    "proteina_frame1 = traduzir_rna(rna_exemplo, tabela, 0)\n",
    "print(f\"Proteína (Frame 1): {proteina_frame1}\")\n",
    "\n",
    "# Tradução para proteína (frame 2)\n",
    "proteina_frame2 = traduzir_rna(rna_exemplo, tabela, 1)\n",
    "print(f\"Proteína (Frame 2): {proteina_frame2}\")\n",
    "\n",
    "# Tradução para proteína (frame 3)\n",
    "proteina_frame3 = traduzir_rna(rna_exemplo, tabela, 2)\n",
    "print(f\"Proteína (Frame 3): {proteina_frame3}\")"
   ]
  },
  {
   "cell_type": "markdown",
   "id": "06753435",
   "metadata": {},
   "source": [
    "## 5. Frames de Leitura (Reading Frames)\n",
    "\n",
    "Um conceito importante na tradução é o \"frame de leitura\". Como o código genético é lido em trincas (códons), existem três possíveis frames de leitura em cada fita de DNA:\n",
    "\n",
    "**Fita senso (5' → 3'):**\n",
    "- Frame 1: começa na posição 0\n",
    "- Frame 2: começa na posição 1\n",
    "- Frame 3: começa na posição 2\n",
    "\n",
    "**Fita anti-senso (3' → 5'):**\n",
    "- Frame 4: complemento reverso, começa na posição 0\n",
    "- Frame 5: complemento reverso, começa na posição 1\n",
    "- Frame 6: complemento reverso, começa na posição 2\n",
    "\n",
    "Vamos demonstrar a tradução nos frames 4, 5 e 6 (fita anti-senso):"
   ]
  },
  {
   "cell_type": "code",
   "execution_count": null,
   "id": "07d9c739",
   "metadata": {},
   "outputs": [],
   "source": [
    "# Sequência complementar reversa\n",
    "dna_complementar = complemento_reverso(dna_exemplo)\n",
    "print(f\"DNA complementar reverso: {dna_complementar}\")\n",
    "\n",
    "# Transcrição da sequência complementar reversa\n",
    "rna_complementar = dna_para_rna(dna_complementar)\n",
    "print(f\"RNA da fita complementar: {rna_complementar}\")\n",
    "\n",
    "# Tradução nos frames 4, 5 e 6\n",
    "proteina_frame4 = traduzir_rna(rna_complementar, tabela, 0)\n",
    "proteina_frame5 = traduzir_rna(rna_complementar, tabela, 1)\n",
    "proteina_frame6 = traduzir_rna(rna_complementar, tabela, 2)\n",
    "\n",
    "print(f\"Proteína (Frame 4): {proteina_frame4}\")\n",
    "print(f\"Proteína (Frame 5): {proteina_frame5}\")\n",
    "print(f\"Proteína (Frame 6): {proteina_frame6}\")"
   ]
  },
  {
   "cell_type": "markdown",
   "id": "0eeaea2f",
   "metadata": {},
   "source": [
    "## 6. Processando o arquivo da E. coli Sakai\n",
    "\n",
    "Agora vamos processar o arquivo FASTA da E. coli Sakai, gerando:\n",
    "1. Um arquivo de RNA\n",
    "2. Seis arquivos de proteínas (um para cada frame)\n",
    "\n",
    "Vamos escrever o código para isso:"
   ]
  },
  {
   "cell_type": "code",
   "execution_count": null,
   "id": "2e191e15",
   "metadata": {},
   "outputs": [],
   "source": [
    "# Definindo os caminhos dos arquivos\n",
    "caminho_fasta = \"c:\\\\Users\\\\gabri\\\\Documents\\\\Unifesp\\\\Atividades\\\\AlgBio\\\\Atividade 4\\\\Ecoli_Sakai_cds_from_genomic.fna\"\n",
    "\n",
    "# Função para salvar sequências em formato FASTA\n",
    "def salvar_fasta(sequencias, arquivo):\n",
    "    from Bio import SeqIO\n",
    "    from Bio.SeqRecord import SeqRecord\n",
    "    from Bio.Seq import Seq\n",
    "    \n",
    "    # Converter o dicionário para uma lista de SeqRecord\n",
    "    records = []\n",
    "    for header, seq in sequencias.items():\n",
    "        # Remover o '>' do início do cabeçalho\n",
    "        if header.startswith('>'):\n",
    "            header = header[1:]\n",
    "        \n",
    "        # Criar um objeto SeqRecord\n",
    "        record = SeqRecord(\n",
    "            Seq(seq),\n",
    "            id=\"\",\n",
    "            description=header\n",
    "        )\n",
    "        records.append(record)\n",
    "    \n",
    "    # Salvar como FASTA\n",
    "    try:\n",
    "        SeqIO.write(records, arquivo, \"fasta\")\n",
    "        print(f\"Arquivo salvo: {arquivo}\")\n",
    "        return True\n",
    "    except Exception as e:\n",
    "        print(f\"Erro ao salvar o arquivo FASTA: {e}\")\n",
    "        return False\n",
    "\n",
    "# Verificar se o arquivo FASTA existe\n",
    "if os.path.exists(caminho_fasta):\n",
    "    print(f\"Arquivo encontrado: {caminho_fasta}\")\n",
    "    print(\"Processando...\")\n",
    "    \n",
    "    # Ler o arquivo FASTA\n",
    "    sequencias_dna = ler_fasta(caminho_fasta)\n",
    "    \n",
    "    # Tomar apenas as primeiras 5 sequências para demonstração\n",
    "    primeiras_sequencias = {}\n",
    "    contador = 0\n",
    "    for header, seq in sequencias_dna.items():\n",
    "        primeiras_sequencias[header] = seq\n",
    "        contador += 1\n",
    "        if contador >= 5:  # Limitar a 5 sequências para demonstração\n",
    "            break\n",
    "    \n",
    "    print(f\"Usando {len(primeiras_sequencias)} sequências para demonstração\")\n",
    "else:\n",
    "    print(f\"Arquivo não encontrado: {caminho_fasta}\")\n",
    "    primeiras_sequencias = {}"
   ]
  },
  {
   "cell_type": "code",
   "execution_count": null,
   "id": "fbb07ae3",
   "metadata": {},
   "outputs": [],
   "source": [
    "# Se o arquivo foi encontrado e temos sequências\n",
    "if primeiras_sequencias:\n",
    "    # Criar as sequências de RNA\n",
    "    print(\"Transcrevendo DNA para RNA...\")\n",
    "    sequencias_rna = {}\n",
    "    for header, seq in primeiras_sequencias.items():\n",
    "        # Adicionar \"RNA\" ao final do cabeçalho\n",
    "        novo_header = header + \" RNA\"\n",
    "        sequencias_rna[novo_header] = dna_para_rna(seq)\n",
    "    \n",
    "    # Mostrar um exemplo de sequência de RNA\n",
    "    primeiro_header = list(sequencias_rna.keys())[0]\n",
    "    primeiro_rna = sequencias_rna[primeiro_header]\n",
    "    print(f\"Exemplo de RNA: {primeiro_rna[:50]}...\")\n",
    "    \n",
    "    # Criar a tabela do código genético\n",
    "    tabela_genetica = criar_tabela_genetica()\n",
    "    \n",
    "    # Criar sequências de proteínas para os 6 frames\n",
    "    print(\"\\nCriando proteínas para os 6 frames de leitura...\")\n",
    "    for frame in range(1, 7):\n",
    "        sequencias_proteina = {}\n",
    "        \n",
    "        for header, seq_dna in primeiras_sequencias.items():\n",
    "            # Adicionar \"Proteína\" ao final do cabeçalho\n",
    "            novo_header = header + f\" Proteína Frame {frame}\"\n",
    "            \n",
    "            if frame <= 3:  # Frames 1, 2, 3 (fita senso)\n",
    "                seq_rna = dna_para_rna(seq_dna)\n",
    "                proteina = traduzir_rna(seq_rna, tabela_genetica, frame - 1)\n",
    "            else:  # Frames 4, 5, 6 (fita anti-senso)\n",
    "                # Obter complemento reverso e transcrever\n",
    "                seq_complementar = complemento_reverso(seq_dna)\n",
    "                seq_rna = dna_para_rna(seq_complementar)\n",
    "                proteina = traduzir_rna(seq_rna, tabela_genetica, frame - 4)\n",
    "            \n",
    "            sequencias_proteina[novo_header] = proteina\n",
    "        \n",
    "        # Mostrar um exemplo de proteína para este frame\n",
    "        primeiro_header = list(sequencias_proteina.keys())[0]\n",
    "        primeira_proteina = sequencias_proteina[primeiro_header]\n",
    "        print(f\"Frame {frame} - Exemplo: {primeira_proteina[:20]}...\")\n",
    "else:\n",
    "    print(\"Nenhuma sequência disponível para processamento\")"
   ]
  },
  {
   "cell_type": "markdown",
   "id": "f05e7b79",
   "metadata": {},
   "source": [
    "## 7. Discussão: Open Reading Frames (ORFs)\n",
    "\n",
    "As sequências DNA que estamos convertendo em sequências de aminoácidos são, em inglês, \"Open reading frame\" (ORF)?\n",
    "\n",
    "Não, as sequências de DNA do arquivo `Ecoli_Sakai_cds_from_genomic.fna` não são exatamente \"Open Reading Frames\" (ORFs), mas sim sequências CDS (Coding Sequences). \n",
    "\n",
    "Uma CDS é uma região do DNA genômico que codifica uma proteína específica já identificada e anotada no genoma. Essas sequências já foram processadas para conter apenas os éxons (regiões codificantes), com íntrons removidos (se houver), e iniciam com um códon de início (AUG) e terminam com um códon de parada (UAA, UAG ou UGA).\n",
    "\n",
    "Em contraste, um Open Reading Frame (ORF) é qualquer sequência de DNA que tem potencial para codificar uma proteína, começando com um códon de início e terminando com um códon de parada, mas que não necessariamente codifica uma proteína funcional na realidade. ORFs são sequências candidatas a genes, enquanto CDSs são genes já confirmados.\n",
    "\n",
    "No caso do arquivo que estamos utilizando (`Ecoli_Sakai_cds_from_genomic.fna`), o nome \"cds\" indica que são sequências codificantes já anotadas, ou seja, genes conhecidos de E. coli Sakai."
   ]
  },
  {
   "cell_type": "markdown",
   "id": "126781f0",
   "metadata": {},
   "source": [
    "## 8. Importância dos 6 Frames de Leitura\n",
    "\n",
    "### Qual a razão para ler os 6 Frames de uma sequência? O que estamos procurando?\n",
    "\n",
    "A razão para ler os 6 frames de uma sequência é porque, ao analisar um genoma ou fragmento de DNA desconhecido, não sabemos a princípio:\n",
    "\n",
    "1. Em qual das duas fitas de DNA (senso ou anti-senso) o gene está codificado\n",
    "2. Em qual dos três frames de leitura possíveis (começando na posição 0, 1 ou 2) a tradução correta ocorre\n",
    "\n",
    "Isto resulta em 6 frames de leitura possíveis (3 frames na fita senso + 3 frames na fita anti-senso).\n",
    "\n",
    "Ao traduzir uma sequência nos 6 frames, estamos procurando:\n",
    "- Potenciais genes não anotados (ORFs)\n",
    "- Erros de anotação em genes existentes\n",
    "- Genes sobrepostos que possam ter sido perdidos na anotação original\n",
    "- Pseudogenes ou fragmentos de genes\n",
    "- Sequências codificantes em fases de leitura alternativas\n",
    "\n",
    "Esta abordagem é fundamental em análises de genômica comparativa, anotação de genomas e descoberta de genes, pois permite identificar todas as possíveis proteínas que poderiam ser codificadas por uma determinada sequência de DNA, independentemente de sua orientação ou fase de leitura."
   ]
  },
  {
   "cell_type": "markdown",
   "id": "369008c7",
   "metadata": {},
   "source": [
    "## 9. Conclusão\n",
    "\n",
    "Neste notebook, exploramos os fundamentos da transcrição de DNA para RNA e da tradução de RNA para proteína, implementando esses processos biológicos usando Python e BioPython.\n",
    "\n",
    "Principais conceitos abordados:\n",
    "1. O dogma central da biologia molecular: DNA → RNA → Proteína\n",
    "2. A tabela do código genético que relaciona códons (trincas de nucleotídeos) a aminoácidos\n",
    "3. Os 6 possíveis frames de leitura em uma sequência de DNA\n",
    "4. A diferença entre CDS (Coding Sequence) e ORF (Open Reading Frame)\n",
    "\n",
    "Este notebook complementa o script Python desenvolvido para a Atividade 4, que processa o genoma completo da E. coli Sakai, gerando os arquivos FASTA de RNA e proteínas nos 6 frames de leitura."
   ]
  }
 ],
 "metadata": {
  "kernelspec": {
   "display_name": "Python 3",
   "language": "python",
   "name": "python3"
  },
  "language_info": {
   "codemirror_mode": {
    "name": "ipython",
    "version": 3
   },
   "file_extension": ".py",
   "mimetype": "text/x-python",
   "name": "python",
   "nbconvert_exporter": "python",
   "pygments_lexer": "ipython3",
   "version": "3.13.0"
  }
 },
 "nbformat": 4,
 "nbformat_minor": 5
}
