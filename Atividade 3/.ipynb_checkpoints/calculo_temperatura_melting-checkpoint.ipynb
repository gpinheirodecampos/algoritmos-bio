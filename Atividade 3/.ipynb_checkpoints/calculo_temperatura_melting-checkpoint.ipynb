{
 "cells": [
  {
   "cell_type": "markdown",
   "id": "55fa9b10",
   "metadata": {},
   "source": [
    "# Cálculo de Temperatura de Melting e Conteúdo GC\n",
    "\n",
    "**Nome:** Gabriel Pinheiro de Campos  \n",
    "**RA:** 156315  \n",
    "**Turma:** NB  \n",
    "\n",
    "## Objetivos\n",
    "\n",
    "Este notebook tem como objetivo analisar sequências de DNA da *E. coli* Sakai para:\n",
    "\n",
    "1. Calcular o número de nucleotídeos (A, T, C, G e total) para cada sequência\n",
    "2. Calcular o conteúdo GC de cada sequência\n",
    "3. Calcular a temperatura de melting usando o conteúdo GC e [Na+] = 100 mM\n",
    "4. Visualizar a relação entre conteúdo GC e temperatura de melting através de um gráfico\n",
    "\n",
    "## Importação de Bibliotecas"
   ]
  },
  {
   "cell_type": "code",
   "execution_count": null,
   "id": "8306920b",
   "metadata": {},
   "outputs": [],
   "source": [
    "# Importando as bibliotecas necessárias\n",
    "from Bio import SeqIO\n",
    "import matplotlib.pyplot as plt\n",
    "import csv\n",
    "import math\n",
    "import os\n",
    "import pandas as pd\n",
    "import numpy as np\n",
    "\n",
    "# Configuração para exibir gráficos no notebook\n",
    "%matplotlib inline\n",
    "plt.style.use('seaborn-v0_8-whitegrid')"
   ]
  },
  {
   "cell_type": "markdown",
   "id": "ec63cfb9",
   "metadata": {},
   "source": [
    "## Definição de Funções"
   ]
  },
  {
   "cell_type": "code",
   "execution_count": null,
   "id": "8182b494",
   "metadata": {},
   "outputs": [],
   "source": [
    "def calcular_temperatura_melting(conteudo_gc, comprimento, concentracao_sodio=100):\n",
    "    \"\"\"\n",
    "    Calcula a temperatura de melting de uma sequência de DNA.\n",
    "    \n",
    "    Fórmula: Tm = 81.5 + 16.6 * log10([Na+]/1000) + 0.41 * (%GC) - 500/comprimento\n",
    "    \n",
    "    Parâmetros:\n",
    "    - conteudo_gc: proporção de G+C na sequência (0 a 1)\n",
    "    - comprimento: comprimento da sequência em nucleotídeos\n",
    "    - concentracao_sodio: concentração de Na+ em mM (padrão: 100 mM)\n",
    "    \n",
    "    Retorna:\n",
    "    - Temperatura de melting em °C\n",
    "    \"\"\"\n",
    "    return 81.5 + 16.6 * math.log10(concentracao_sodio/1000) + 0.41 * (conteudo_gc*100) - 500/comprimento"
   ]
  },
  {
   "cell_type": "markdown",
   "id": "1f813654",
   "metadata": {},
   "source": [
    "## Processamento do Arquivo FASTA"
   ]
  },
  {
   "cell_type": "code",
   "execution_count": null,
   "id": "b554adc7",
   "metadata": {},
   "outputs": [],
   "source": [
    "# Definindo os arquivos\n",
    "arquivo_entrada = \"Ecoli_Sakai_cds_from_genomic.fna\"\n",
    "arquivo_saida_dados = \"Dados das sequencias.csv\"\n",
    "arquivo_saida_gc = \"Conteudo_GC.csv\"\n",
    "arquivo_saida_temp = \"Temperatura_x_GC.csv\"\n",
    "arquivo_grafico = \"GC_x_Temperatura.png\"\n",
    "\n",
    "print(f\"Processando arquivo: {arquivo_entrada}\")\n",
    "\n",
    "# Verificar se o arquivo existe\n",
    "if not os.path.exists(arquivo_entrada):\n",
    "    print(f\"ERRO: O arquivo {arquivo_entrada} não foi encontrado!\")\n",
    "else:\n",
    "    # Armazenar os dados de todas as sequências\n",
    "    dados_sequencias = []\n",
    "    \n",
    "    # Ler o arquivo FASTA\n",
    "    for registro in SeqIO.parse(arquivo_entrada, \"fasta\"):\n",
    "        # Obter identificador e sequência\n",
    "        identificador = registro.id\n",
    "        sequencia = str(registro.seq).upper()\n",
    "        \n",
    "        # Contar nucleotídeos\n",
    "        contador_A = sequencia.count(\"A\")\n",
    "        contador_T = sequencia.count(\"T\")\n",
    "        contador_C = sequencia.count(\"C\")\n",
    "        contador_G = sequencia.count(\"G\")\n",
    "        total = contador_A + contador_T + contador_C + contador_G\n",
    "        \n",
    "        # Calcular conteúdo GC\n",
    "        conteudo_gc = (contador_G + contador_C) / total if total > 0 else 0\n",
    "        \n",
    "        # Calcular temperatura de melting\n",
    "        temperatura_melting = calcular_temperatura_melting(conteudo_gc, total)\n",
    "        \n",
    "        # Armazenar os resultados\n",
    "        dados_sequencias.append({\n",
    "            \"identificador\": identificador,\n",
    "            \"contador_A\": contador_A,\n",
    "            \"contador_T\": contador_T,\n",
    "            \"contador_C\": contador_C,\n",
    "            \"contador_G\": contador_G,\n",
    "            \"total\": total,\n",
    "            \"conteudo_gc\": conteudo_gc,\n",
    "            \"temperatura_melting\": temperatura_melting\n",
    "        })\n",
    "    \n",
    "    print(f\"Foram processadas {len(dados_sequencias)} sequências.\")"
   ]
  },
  {
   "cell_type": "markdown",
   "id": "c16f27a4",
   "metadata": {},
   "source": [
    "## Criação dos Arquivos CSV"
   ]
  },
  {
   "cell_type": "code",
   "execution_count": null,
   "id": "bb794ad8",
   "metadata": {},
   "outputs": [],
   "source": [
    "# Criar arquivo CSV com os dados das sequências\n",
    "with open(arquivo_saida_dados, 'w', newline='') as arquivo:\n",
    "    escritor = csv.writer(arquivo)\n",
    "    escritor.writerow([\"Sequencia\", \"A\", \"T\", \"C\", \"G\", \"Total\"])\n",
    "    for dados in dados_sequencias:\n",
    "        escritor.writerow([\n",
    "            dados[\"identificador\"],\n",
    "            dados[\"contador_A\"], \n",
    "            dados[\"contador_T\"], \n",
    "            dados[\"contador_C\"], \n",
    "            dados[\"contador_G\"], \n",
    "            dados[\"total\"]\n",
    "        ])\n",
    "\n",
    "print(f\"Arquivo criado: {arquivo_saida_dados}\")\n",
    "\n",
    "# Criar arquivo CSV com o conteúdo GC\n",
    "with open(arquivo_saida_gc, 'w', newline='') as arquivo:\n",
    "    escritor = csv.writer(arquivo)\n",
    "    escritor.writerow([\"Sequencia\", \"Conteudo GC\"])\n",
    "    for dados in dados_sequencias:\n",
    "        escritor.writerow([\n",
    "            dados[\"identificador\"],\n",
    "            f\"{dados['conteudo_gc']:.3f}\"  # 3 casas decimais\n",
    "        ])\n",
    "\n",
    "print(f\"Arquivo criado: {arquivo_saida_gc}\")\n",
    "\n",
    "# Criar arquivo CSV com temperatura de melting e conteúdo GC\n",
    "with open(arquivo_saida_temp, 'w', newline='') as arquivo:\n",
    "    escritor = csv.writer(arquivo)\n",
    "    escritor.writerow([\"Temperatura de Melting\", \"Conteudo GC (%)\"])\n",
    "    for dados in dados_sequencias:\n",
    "        escritor.writerow([\n",
    "            f\"{dados['temperatura_melting']:.3f}\",  # 3 casas decimais\n",
    "            f\"{dados['conteudo_gc']*100:.2f}\"       # 2 casas decimais\n",
    "        ])\n",
    "\n",
    "print(f\"Arquivo criado: {arquivo_saida_temp}\")"
   ]
  },
  {
   "cell_type": "markdown",
   "id": "da8d1845",
   "metadata": {},
   "source": [
    "## Análise Exploratória dos Dados"
   ]
  },
  {
   "cell_type": "code",
   "execution_count": null,
   "id": "1a883ec0",
   "metadata": {},
   "outputs": [],
   "source": [
    "# Converter para DataFrame para análise\n",
    "df = pd.DataFrame(dados_sequencias)\n",
    "\n",
    "# Exibir uma visão geral dos dados\n",
    "print(\"Resumo dos dados:\")\n",
    "print(f\"Total de sequências analisadas: {len(df)}\")\n",
    "print(\"\\nEstatísticas básicas:\")\n",
    "print(df[[\"contador_A\", \"contador_T\", \"contador_C\", \"contador_G\", \"total\", \"conteudo_gc\", \"temperatura_melting\"]].describe())\n",
    "\n",
    "# Exibir as primeiras linhas para verificação\n",
    "print(\"\\nPrimeiras 5 sequências analisadas:\")\n",
    "df.head()"
   ]
  },
  {
   "cell_type": "markdown",
   "id": "03d8616d",
   "metadata": {},
   "source": [
    "## Visualização dos Dados"
   ]
  },
  {
   "cell_type": "code",
   "execution_count": null,
   "id": "247921f6",
   "metadata": {},
   "outputs": [],
   "source": [
    "# Criar gráfico de dispersão\n",
    "temperaturas = [dados[\"temperatura_melting\"] for dados in dados_sequencias]\n",
    "conteudos_gc = [dados[\"conteudo_gc\"] * 100 for dados in dados_sequencias]\n",
    "\n",
    "plt.figure(figsize=(12, 8))\n",
    "scatter = plt.scatter(temperaturas, conteudos_gc, alpha=0.5, s=15, c=conteudos_gc, cmap='viridis')\n",
    "plt.colorbar(scatter, label='Conteúdo GC (%)')\n",
    "plt.xlabel('Temperatura de Melting (°C)', fontsize=12)\n",
    "plt.ylabel('Conteúdo GC (%)', fontsize=12)\n",
    "plt.title('Relação entre Conteúdo GC e Temperatura de Melting\\n(Gabriel Pinheiro de Campos)', fontsize=14)\n",
    "plt.grid(True, linestyle='--', alpha=0.7)\n",
    "\n",
    "# Adicionar linha de tendência\n",
    "z = np.polyfit(temperaturas, conteudos_gc, 1)\n",
    "p = np.poly1d(z)\n",
    "plt.plot(temperaturas, p(temperaturas), \"r--\", alpha=0.8, label=f'Tendência: y={z[0]:.2f}x{z[1]:+.2f}')\n",
    "plt.legend()\n",
    "\n",
    "# Salvar o gráfico como arquivo de imagem\n",
    "plt.savefig(arquivo_grafico, dpi=300, bbox_inches='tight')\n",
    "print(f\"Gráfico salvo em: {arquivo_grafico}\")\n",
    "plt.show()"
   ]
  },
  {
   "cell_type": "markdown",
   "id": "b69a15e5",
   "metadata": {},
   "source": [
    "## Análises adicionais"
   ]
  },
  {
   "cell_type": "code",
   "execution_count": null,
   "id": "9bf56ef7",
   "metadata": {},
   "outputs": [],
   "source": [
    "# Histograma do conteúdo GC\n",
    "plt.figure(figsize=(10, 6))\n",
    "plt.hist(conteudos_gc, bins=30, alpha=0.7, color='green')\n",
    "plt.xlabel('Conteúdo GC (%)', fontsize=12)\n",
    "plt.ylabel('Número de sequências', fontsize=12)\n",
    "plt.title('Distribuição do Conteúdo GC nas sequências de E. coli Sakai', fontsize=14)\n",
    "plt.grid(True, linestyle='--', alpha=0.7)\n",
    "plt.show()\n",
    "\n",
    "# Histograma das temperaturas de melting\n",
    "plt.figure(figsize=(10, 6))\n",
    "plt.hist(temperaturas, bins=30, alpha=0.7, color='blue')\n",
    "plt.xlabel('Temperatura de Melting (°C)', fontsize=12)\n",
    "plt.ylabel('Número de sequências', fontsize=12)\n",
    "plt.title('Distribuição das Temperaturas de Melting nas sequências de E. coli Sakai', fontsize=14)\n",
    "plt.grid(True, linestyle='--', alpha=0.7)\n",
    "plt.show()"
   ]
  },
  {
   "cell_type": "markdown",
   "id": "29ff87d8",
   "metadata": {},
   "source": [
    "## Conclusões\n",
    "\n",
    "Esta análise permitiu calcular e visualizar a relação entre o conteúdo GC e a temperatura de melting para 5155 potenciais genes da *E. coli* Sakai. Os resultados mostram uma clara correlação positiva entre o conteúdo GC e a temperatura de melting, o que está de acordo com a literatura científica, já que pares G-C formam três ligações de hidrogênio, enquanto pares A-T formam apenas duas, tornando o DNA mais rico em GC mais estável termicamente.\n",
    "\n",
    "Os dados foram exportados em três formatos CSV conforme solicitado:\n",
    "- \"Dados das sequencias.csv\": Contagem de nucleotídeos para cada sequência\n",
    "- \"Conteudo_GC.csv\": Conteúdo GC de cada sequência\n",
    "- \"Temperatura_x_GC.csv\": Temperatura de melting e conteúdo GC (%) para cada sequência\n",
    "\n",
    "O gráfico de dispersão gerado ilustra visualmente esta relação e foi salvo como \"GC_x_Temperatura.png\"."
   ]
  }
 ],
 "metadata": {
  "language_info": {
   "name": "python"
  }
 },
 "nbformat": 4,
 "nbformat_minor": 5
}
