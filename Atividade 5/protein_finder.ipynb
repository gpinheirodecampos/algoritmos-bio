{
 "cells": [
  {
   "cell_type": "markdown",
   "id": "210e9f8f",
   "metadata": {},
   "source": [
    "# Identificador de Regiões Codificadoras de Proteínas - E. coli Sakai\n",
    "\n",
    "Este notebook implementa a **Atividade 5** que consiste em identificar regiões do genoma da *E. coli* Sakai (genoma principal e os 2 plasmídeos) que potencialmente codificam proteínas.\n",
    "\n",
    "A atividade requer:\n",
    "1. Identificar e analisar os 6 frames de leitura (3 na fita senso e 3 na fita antissenso)\n",
    "2. Traduzir cada frame para sequências de proteínas (usando código de 1 letra para aminoácidos)\n",
    "3. Identificar ORFs (Open Reading Frames) que começam com um códon de iniciação (ATG) e terminam com um códon de terminação (TAA, TAG ou TGA)\n",
    "4. Salvar os resultados em 18 arquivos FASTA (6 frames × 3 sequências genômicas)"
   ]
  },
  {
   "cell_type": "markdown",
   "id": "6c8da369",
   "metadata": {},
   "source": [
    "## 1. Importando Bibliotecas Necessárias\n",
    "\n",
    "Usaremos a biblioteca BioPython para manipular sequências biológicas."
   ]
  },
  {
   "cell_type": "code",
   "execution_count": null,
   "id": "064d55cc",
   "metadata": {},
   "outputs": [],
   "source": [
    "%pip install biopython"
   ]
  },
  {
   "cell_type": "code",
   "execution_count": null,
   "id": "555a554f",
   "metadata": {},
   "outputs": [],
   "source": [
    "# Importando bibliotecas necessárias\n",
    "from Bio import SeqIO\n",
    "from Bio.Seq import Seq\n",
    "import os"
   ]
  },
  {
   "cell_type": "markdown",
   "id": "43c9c075",
   "metadata": {},
   "source": [
    "## 2. Configurações Iniciais\n",
    "\n",
    "Definimos algumas constantes, incluindo o número de RA do estudante e a tabela do código genético."
   ]
  },
  {
   "cell_type": "code",
   "execution_count": null,
   "id": "8a865e59",
   "metadata": {},
   "outputs": [],
   "source": [
    "# Número do RA do estudante - altere para o seu RA\n",
    "NUMERO_RA = \"156315\"  # Substitua pelo seu RA\n",
    "\n",
    "# Dicionário com os códons e seus aminoácidos correspondentes\n",
    "GENETIC_CODE = {\n",
    "    'ATA':'I', 'ATC':'I', 'ATT':'I', 'ATG':'M',\n",
    "    'ACA':'T', 'ACC':'T', 'ACG':'T', 'ACT':'T',\n",
    "    'AAC':'N', 'AAT':'N', 'AAA':'K', 'AAG':'K',\n",
    "    'AGC':'S', 'AGT':'S', 'AGA':'R', 'AGG':'R',\n",
    "    'CTA':'L', 'CTC':'L', 'CTG':'L', 'CTT':'L',\n",
    "    'CCA':'P', 'CCC':'P', 'CCG':'P', 'CCT':'P',\n",
    "    'CAC':'H', 'CAT':'H', 'CAA':'Q', 'CAG':'Q',\n",
    "    'CGA':'R', 'CGC':'R', 'CGG':'R', 'CGT':'R',\n",
    "    'GTA':'V', 'GTC':'V', 'GTG':'V', 'GTT':'V',\n",
    "    'GCA':'A', 'GCC':'A', 'GCG':'A', 'GCT':'A',\n",
    "    'GAC':'D', 'GAT':'D', 'GAA':'E', 'GAG':'E',\n",
    "    'GGA':'G', 'GGC':'G', 'GGG':'G', 'GGT':'G',\n",
    "    'TCA':'S', 'TCC':'S', 'TCG':'S', 'TCT':'S',\n",
    "    'TTC':'F', 'TTT':'F', 'TTA':'L', 'TTG':'L',\n",
    "    'TAC':'Y', 'TAT':'Y', 'TAA':'*', 'TAG':'*',\n",
    "    'TGC':'C', 'TGT':'C', 'TGA':'*', 'TGG':'W',\n",
    "}\n",
    "\n",
    "# Códons de início e parada\n",
    "START_CODON = 'ATG'  # Metionina (M)\n",
    "STOP_CODONS = ['TAA', 'TAG', 'TGA']  # Codificados como '*'"
   ]
  },
  {
   "cell_type": "markdown",
   "id": "4cf68297",
   "metadata": {},
   "source": [
    "## 3. Funções para Processamento de Sequências\n",
    "\n",
    "Aqui definimos as funções necessárias para ler arquivos FASTA, traduzir sequências de DNA para proteínas, identificar ORFs e salvar os resultados."
   ]
  },
  {
   "cell_type": "code",
   "execution_count": null,
   "id": "96350a82",
   "metadata": {},
   "outputs": [],
   "source": [
    "def read_fasta(file_path):\n",
    "    \"\"\"Lê um arquivo FASTA e retorna o registro\"\"\"\n",
    "    records = list(SeqIO.parse(file_path, \"fasta\"))\n",
    "    if records:\n",
    "        return records[0]\n",
    "    return None\n",
    "\n",
    "def translate_sequence(seq, frame):\n",
    "    \"\"\"\n",
    "    Traduz a sequência de DNA para proteína no frame especificado\n",
    "    frame: 1, 2, 3 para fita positiva e 4, 5, 6 para fita negativa\n",
    "    \"\"\"\n",
    "    if frame <= 3:\n",
    "        # Frames 1, 2, 3 (fita positiva)\n",
    "        start_pos = frame - 1\n",
    "        coding_seq = seq[start_pos:]\n",
    "        protein_seq = coding_seq.translate()\n",
    "    else:\n",
    "        # Frames 4, 5, 6 (fita negativa / complementar)\n",
    "        start_pos = abs(frame) - 4\n",
    "        coding_seq = seq.reverse_complement()[start_pos:]\n",
    "        protein_seq = coding_seq.translate()\n",
    "    \n",
    "    return protein_seq"
   ]
  },
  {
   "cell_type": "code",
   "execution_count": null,
   "id": "aa3b0f8c",
   "metadata": {},
   "outputs": [],
   "source": [
    "def find_proteins(dna_seq, frame, min_length=50):\n",
    "    \"\"\"\n",
    "    Encontra sequências de proteínas que começam com M (ATG) e terminam com um códon de parada.\n",
    "    frame: 1-6 (1-3 fita +, 4-6 fita -)\n",
    "    min_length: tamanho mínimo da proteína em aminoácidos\n",
    "    Retorna lista de tuplas (proteína, posição_inicio, posição_fim)\n",
    "    \"\"\"\n",
    "    proteins = []\n",
    "    \n",
    "    # Traduz a sequência no frame especificado\n",
    "    if frame <= 3:\n",
    "        # Frames 1, 2, 3 (fita positiva)\n",
    "        start_pos = frame - 1\n",
    "        dna_frame = dna_seq[start_pos:]\n",
    "        protein_seq = str(dna_frame.translate())\n",
    "        \n",
    "        # Encontra todas as proteínas que começam com M e terminam com *\n",
    "        m_positions = [i for i, aa in enumerate(protein_seq) if aa == 'M']\n",
    "        \n",
    "        for m_pos in m_positions:\n",
    "            # Procura o próximo stop codon depois da metionina\n",
    "            stop_pos = protein_seq.find('*', m_pos)\n",
    "            if stop_pos > m_pos:\n",
    "                protein = protein_seq[m_pos:stop_pos]\n",
    "                \n",
    "                # Verifica se a proteína tem o tamanho mínimo\n",
    "                if len(protein) >= min_length:\n",
    "                    # Calcula as posições no genoma original\n",
    "                    genome_start = start_pos + (m_pos * 3)\n",
    "                    genome_end = start_pos + (stop_pos * 3) + 2  # +2 para incluir o códon de parada\n",
    "                    proteins.append((protein, genome_start, genome_end))\n",
    "    else:\n",
    "        # Frames 4, 5, 6 (fita negativa / complementar)\n",
    "        start_pos = abs(frame) - 4\n",
    "        dna_frame = dna_seq.reverse_complement()[start_pos:]\n",
    "        protein_seq = str(dna_frame.translate())\n",
    "        \n",
    "        # Encontra todas as proteínas que começam com M e terminam com *\n",
    "        m_positions = [i for i, aa in enumerate(protein_seq) if aa == 'M']\n",
    "        \n",
    "        for m_pos in m_positions:\n",
    "            # Procura o próximo stop codon depois da metionina\n",
    "            stop_pos = protein_seq.find('*', m_pos)\n",
    "            if stop_pos > m_pos:\n",
    "                protein = protein_seq[m_pos:stop_pos]\n",
    "                \n",
    "                # Verifica se a proteína tem o tamanho mínimo\n",
    "                if len(protein) >= min_length:\n",
    "                    # Calcula as posições no genoma original (invertido para a fita complementar)\n",
    "                    genome_start = len(dna_seq) - (start_pos + (stop_pos * 3) + 2)\n",
    "                    genome_end = len(dna_seq) - (start_pos + (m_pos * 3))\n",
    "                    proteins.append((protein, genome_start, genome_end))\n",
    "    \n",
    "    return proteins"
   ]
  },
  {
   "cell_type": "code",
   "execution_count": null,
   "id": "6b3e1940",
   "metadata": {},
   "outputs": [],
   "source": [
    "def save_to_fasta(proteins, record_id, frame, output_prefix, ra_number):\n",
    "    \"\"\"\n",
    "    Salva as proteínas encontradas em um arquivo FASTA\n",
    "    \"\"\"\n",
    "    if not proteins:\n",
    "        print(f\"Nenhuma proteína encontrada para {record_id} no frame {frame}\")\n",
    "        # Cria um arquivo vazio\n",
    "        with open(f\"{output_prefix}_frame{frame}_ativ5_{ra_number}.fasta\", \"w\") as f:\n",
    "            f.write(\"\")\n",
    "        return\n",
    "    \n",
    "    with open(f\"{output_prefix}_frame{frame}_ativ5_{ra_number}.fasta\", \"w\") as f:\n",
    "        for i, (protein, start, end) in enumerate(proteins, 1):\n",
    "            header = f\">{record_id}, Frame {frame}, proteína {i}, [location={start+1}..{end+1}], {ra_number}\"\n",
    "            f.write(f\"{header}\\n{protein}\\n\")\n",
    "    \n",
    "    print(f\"Salvou {len(proteins)} proteínas para {record_id} no frame {frame}\")"
   ]
  },
  {
   "cell_type": "markdown",
   "id": "ee13cc69",
   "metadata": {},
   "source": [
    "## 4. Processamento dos Genomas\n",
    "\n",
    "Aqui definimos a função para processar um arquivo de genoma completo e a função principal que coordena o processamento de todos os arquivos."
   ]
  },
  {
   "cell_type": "code",
   "execution_count": null,
   "id": "db13954d",
   "metadata": {},
   "outputs": [],
   "source": [
    "def process_genome(file_path, prefix):\n",
    "    \"\"\"\n",
    "    Processa um arquivo de genoma para todos os frames e salva os resultados\n",
    "    \"\"\"\n",
    "    record = read_fasta(file_path)\n",
    "    if not record:\n",
    "        print(f\"Erro ao ler o arquivo {file_path}\")\n",
    "        return\n",
    "    \n",
    "    print(f\"Processando sequência: {record.id}, tamanho: {len(record.seq)} pb\")\n",
    "    \n",
    "    for frame in range(1, 7):\n",
    "        print(f\"  Analisando frame {frame}...\")\n",
    "        proteins = find_proteins(record.seq, frame)\n",
    "        save_to_fasta(proteins, record.id, frame, prefix, NUMERO_RA)"
   ]
  },
  {
   "cell_type": "code",
   "execution_count": null,
   "id": "199bc012",
   "metadata": {},
   "outputs": [],
   "source": [
    "def main():\n",
    "    # Define os arquivos de entrada e prefixos de saída\n",
    "    files_and_prefixes = [\n",
    "        (\"Ecoli Sakai sequence.fasta\", \"gc\"),  # Genoma completo\n",
    "        (\"Ecoli Sakai Plasmid 1 sequence.fasta\", \"p1\"),  # Plasmídeo 1\n",
    "        (\"Ecoli Sakai plasmid 2 sequence.fasta\", \"p2\")  # Plasmídeo 2\n",
    "    ]\n",
    "    \n",
    "    # Processa cada arquivo\n",
    "    for file_name, prefix in files_and_prefixes:\n",
    "        file_path = os.path.join(os.path.dirname(os.path.abspath(__file__)), file_name)\n",
    "        if os.path.exists(file_path):\n",
    "            print(f\"\\nProcessando {file_name}...\")\n",
    "            process_genome(file_path, prefix)\n",
    "        else:\n",
    "            print(f\"ERRO: Arquivo {file_path} não encontrado!\")\n",
    "    \n",
    "    print(\"\\nProcessamento concluído!\")\n",
    "    print(\"Arquivos .fasta gerados com as potenciais proteínas em cada frame.\")"
   ]
  },
  {
   "cell_type": "markdown",
   "id": "f7cace73",
   "metadata": {},
   "source": [
    "## 5. Execução do Script\n",
    "\n",
    "Agora vamos executar o script para processar os genomas e gerar os arquivos FASTA."
   ]
  },
  {
   "cell_type": "code",
   "execution_count": null,
   "id": "84501a9d",
   "metadata": {},
   "outputs": [],
   "source": [
    "if __name__ == \"__main__\":\n",
    "    main()"
   ]
  },
  {
   "cell_type": "markdown",
   "id": "678058c3",
   "metadata": {},
   "source": [
    "## 6. Análise dos Resultados\n",
    "\n",
    "Após a execução, o script terá gerado 18 arquivos FASTA no total:\n",
    "- 6 arquivos para o genoma principal (gc_frame1_ativ5_*.fasta até gc_frame6_ativ5_*.fasta)\n",
    "- 6 arquivos para o plasmídeo 1 (p1_frame1_ativ5_*.fasta até p1_frame6_ativ5_*.fasta)\n",
    "- 6 arquivos para o plasmídeo 2 (p2_frame1_ativ5_*.fasta até p2_frame6_ativ5_*.fasta)\n",
    "\n",
    "Cada arquivo contém as sequências de proteínas potenciais encontradas no respectivo frame de leitura.\n",
    "Cada entrada no arquivo FASTA inclui:\n",
    "- ID da sequência original\n",
    "- Frame de leitura\n",
    "- Número da proteína\n",
    "- Localização (posições de início e fim no genoma)\n",
    "- Número do RA do estudante"
   ]
  },
  {
   "cell_type": "markdown",
   "id": "d0d29cfe",
   "metadata": {},
   "source": [
    "## 7. Reflexão Sobre a Atividade\n",
    "\n",
    "Esta atividade é parte de uma operação chamada de \"Anotação\" no sequenciamento de um genoma. A anotação genômica é o processo de identificar e rotular todos os elementos funcionais dentro de um genoma sequenciado.\n",
    "\n",
    "Após esta etapa de identificação de ORFs, a próxima operação seria a **caracterização funcional** das proteínas identificadas, que envolve:\n",
    "\n",
    "1. **Análise de homologia**: Comparação com proteínas já conhecidas em bancos de dados\n",
    "2. **Predição de domínios funcionais**: Identificação de domínios conservados\n",
    "3. **Análise estrutural**: Predição da estrutura da proteína\n",
    "4. **Análise de contexto genômico**: Examinar a localização e o contexto das ORFs\n",
    "5. **Validação experimental**: Confirmar a funcionalidade das proteínas preditas\n",
    "\n",
    "Esta atividade se relaciona diretamente com estas próximas etapas pois fornece os \"candidatos\" - sequências de proteínas potenciais - que serão submetidas à caracterização funcional mais detalhada."
   ]
  }
 ],
 "metadata": {
  "language_info": {
   "name": "python"
  }
 },
 "nbformat": 4,
 "nbformat_minor": 5
}
